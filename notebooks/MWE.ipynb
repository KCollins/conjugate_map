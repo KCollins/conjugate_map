{
 "cells": [
  {
   "cell_type": "markdown",
   "id": "f3e47057-f52f-49c7-8eac-04ff6fb1e314",
   "metadata": {},
   "source": [
    "## Minimum Working Example: Conjugate Calculations"
   ]
  },
  {
   "cell_type": "code",
   "execution_count": 1,
   "id": "ec3504cd-321d-44f1-9f16-d734bb36803f",
   "metadata": {
    "scrolled": true
   },
   "outputs": [
    {
     "name": "stdout",
     "output_type": "stream",
     "text": [
      "Load IGRF coefficients ...\n"
     ]
    },
    {
     "name": "stderr",
     "output_type": "stream",
     "text": [
      "/home/pliny/.local/lib/python3.9/site-packages/pandas/core/computation/expressions.py:21: UserWarning: Pandas requires version '2.8.4' or newer of 'numexpr' (version '2.8.3' currently installed).\n",
      "  from pandas.core.computation.check import NUMEXPR_INSTALLED\n"
     ]
    }
   ],
   "source": [
    "import conjugate_map.conj_calc as conj\n",
    "import datetime as dt\n",
    "import pandas as pd\n",
    "\n",
    "import logging\n",
    "logger = logging.getLogger(__name__)"
   ]
  },
  {
   "cell_type": "markdown",
   "id": "00e1b932-184f-4720-97f2-7c94bacee574",
   "metadata": {},
   "source": [
    "### Compute conjugate points for one point:"
   ]
  },
  {
   "cell_type": "code",
   "execution_count": 7,
   "id": "f317508d-cb3b-4460-a34e-2cc68db06b36",
   "metadata": {},
   "outputs": [
    {
     "name": "stdout",
     "output_type": "stream",
     "text": [
      "Geopack: \n",
      "(39.2400063219665, 291.0739459705476)\n",
      "AACGM: \n",
      "(36.700798441742975, -68.00768971281151)\n",
      "Quasi-dipole: \n",
      "(36.67863845825195, -67.940673828125)\n",
      "\n",
      "Automatic: \n",
      "(36.700798441742975, -68.00768971281151)\n"
     ]
    }
   ],
   "source": [
    "ut = dt.datetime(1980, 11, 3, 18, 0, 0)\n",
    "lat, lon = [-64, -64]\n",
    "\n",
    "print(\"Geopack: \")\n",
    "print(conj.findconj(lat, lon, ut, method=\"geopack\"))\n",
    "print(\"AACGM: \")\n",
    "print(conj.findconj(lat, lon, ut, method=\"aacgm\"))\n",
    "print(\"Quasi-dipole: \")\n",
    "print(conj.findconj(lat, lon, ut, method=\"qdip\"))\n",
    "print(\"\\nAutomatic: \")\n",
    "print(conj.findconj(lat, lon, ut, method=\"auto\"))\n"
   ]
  },
  {
   "cell_type": "code",
   "execution_count": 3,
   "id": "8a5df4d3-5027-4af1-8b9f-7b0fe0c00ce2",
   "metadata": {},
   "outputs": [],
   "source": [
    "import warnings\n",
    "warnings.filterwarnings('ignore')"
   ]
  },
  {
   "cell_type": "markdown",
   "id": "a02287db-ced7-446a-ba6e-11e80cb7e6e6",
   "metadata": {},
   "source": [
    "## Compute conjugate points for all points in a dataframe:\n",
    "\n",
    "First we declare a dataframe:"
   ]
  },
  {
   "cell_type": "code",
   "execution_count": 4,
   "id": "d8dcceae-625c-4dc3-ac19-65b0421bf6fe",
   "metadata": {},
   "outputs": [
    {
     "data": {
      "text/html": [
       "<div>\n",
       "<style scoped>\n",
       "    .dataframe tbody tr th:only-of-type {\n",
       "        vertical-align: middle;\n",
       "    }\n",
       "\n",
       "    .dataframe tbody tr th {\n",
       "        vertical-align: top;\n",
       "    }\n",
       "\n",
       "    .dataframe thead th {\n",
       "        text-align: right;\n",
       "    }\n",
       "</style>\n",
       "<table border=\"1\" class=\"dataframe\">\n",
       "  <thead>\n",
       "    <tr style=\"text-align: right;\">\n",
       "      <th></th>\n",
       "      <th>Name</th>\n",
       "      <th>lat</th>\n",
       "      <th>lon</th>\n",
       "    </tr>\n",
       "  </thead>\n",
       "  <tbody>\n",
       "    <tr>\n",
       "      <th>0</th>\n",
       "      <td>McMurdo</td>\n",
       "      <td>-77.846323</td>\n",
       "      <td>166.668235</td>\n",
       "    </tr>\n",
       "    <tr>\n",
       "      <th>1</th>\n",
       "      <td>SPA</td>\n",
       "      <td>-90.000000</td>\n",
       "      <td>0.000000</td>\n",
       "    </tr>\n",
       "    <tr>\n",
       "      <th>2</th>\n",
       "      <td>PGC</td>\n",
       "      <td>44.984308</td>\n",
       "      <td>-93.182207</td>\n",
       "    </tr>\n",
       "    <tr>\n",
       "      <th>3</th>\n",
       "      <td>SSI</td>\n",
       "      <td>40.019511</td>\n",
       "      <td>-105.240014</td>\n",
       "    </tr>\n",
       "  </tbody>\n",
       "</table>\n",
       "</div>"
      ],
      "text/plain": [
       "      Name        lat         lon\n",
       "0  McMurdo -77.846323  166.668235\n",
       "1      SPA -90.000000    0.000000\n",
       "2      PGC  44.984308  -93.182207\n",
       "3      SSI  40.019511 -105.240014"
      ]
     },
     "execution_count": 4,
     "metadata": {},
     "output_type": "execute_result"
    }
   ],
   "source": [
    "df = pd.DataFrame({'Name':['McMurdo', 'SPA', 'PGC', 'SSI'], \n",
    "                   'lat': [-77.846323, -90, 44.984308, 40.019511], \n",
    "                   'lon': [ 166.668235, 0, -93.182207, -105.240014]\n",
    "                  })\n",
    "\n",
    "\n",
    "df"
   ]
  },
  {
   "cell_type": "markdown",
   "id": "702a01a9-5618-4f97-8299-146b09ac6fa7",
   "metadata": {},
   "source": [
    "...and then we compute the conjugate points:"
   ]
  },
  {
   "cell_type": "code",
   "execution_count": 5,
   "id": "c9a95d25-9fc2-4956-9ce7-16c446b8d377",
   "metadata": {},
   "outputs": [
    {
     "data": {
      "text/html": [
       "<div>\n",
       "<style scoped>\n",
       "    .dataframe tbody tr th:only-of-type {\n",
       "        vertical-align: middle;\n",
       "    }\n",
       "\n",
       "    .dataframe tbody tr th {\n",
       "        vertical-align: top;\n",
       "    }\n",
       "\n",
       "    .dataframe thead th {\n",
       "        text-align: right;\n",
       "    }\n",
       "</style>\n",
       "<table border=\"1\" class=\"dataframe\">\n",
       "  <thead>\n",
       "    <tr style=\"text-align: right;\">\n",
       "      <th></th>\n",
       "      <th>Name</th>\n",
       "      <th>lat</th>\n",
       "      <th>lon</th>\n",
       "      <th>Hemisphere</th>\n",
       "      <th>PLAT</th>\n",
       "      <th>PLON</th>\n",
       "    </tr>\n",
       "  </thead>\n",
       "  <tbody>\n",
       "    <tr>\n",
       "      <th>0</th>\n",
       "      <td>McMurdo</td>\n",
       "      <td>-77.846323</td>\n",
       "      <td>166.668235</td>\n",
       "      <td>S</td>\n",
       "      <td>69.678409</td>\n",
       "      <td>-92.264039</td>\n",
       "    </tr>\n",
       "    <tr>\n",
       "      <th>1</th>\n",
       "      <td>SPA</td>\n",
       "      <td>-90.000000</td>\n",
       "      <td>0.000000</td>\n",
       "      <td>S</td>\n",
       "      <td>63.904820</td>\n",
       "      <td>-66.297775</td>\n",
       "    </tr>\n",
       "    <tr>\n",
       "      <th>2</th>\n",
       "      <td>PGC</td>\n",
       "      <td>44.984308</td>\n",
       "      <td>-93.182207</td>\n",
       "      <td>N</td>\n",
       "      <td>44.984308</td>\n",
       "      <td>-93.182207</td>\n",
       "    </tr>\n",
       "    <tr>\n",
       "      <th>3</th>\n",
       "      <td>SSI</td>\n",
       "      <td>40.019511</td>\n",
       "      <td>-105.240014</td>\n",
       "      <td>N</td>\n",
       "      <td>40.019511</td>\n",
       "      <td>-105.240014</td>\n",
       "    </tr>\n",
       "  </tbody>\n",
       "</table>\n",
       "</div>"
      ],
      "text/plain": [
       "      Name        lat         lon Hemisphere       PLAT        PLON\n",
       "0  McMurdo -77.846323  166.668235          S  69.678409  -92.264039\n",
       "1      SPA -90.000000    0.000000          S  63.904820  -66.297775\n",
       "2      PGC  44.984308  -93.182207          N  44.984308  -93.182207\n",
       "3      SSI  40.019511 -105.240014          N  40.019511 -105.240014"
      ]
     },
     "execution_count": 5,
     "metadata": {},
     "output_type": "execute_result"
    }
   ],
   "source": [
    "conj.conjcalc(df, dtime = ut, latname = 'lat', lonname = 'lon')"
   ]
  },
  {
   "cell_type": "markdown",
   "id": "c0de94b0-cfa5-427a-8f6f-48ee6725e855",
   "metadata": {},
   "source": [
    "The default values are documented in the function:"
   ]
  },
  {
   "cell_type": "code",
   "execution_count": 6,
   "id": "b0813286-2a83-4262-9a68-7cda035760cd",
   "metadata": {},
   "outputs": [
    {
     "name": "stdout",
     "output_type": "stream",
     "text": [
      "Help on function conjcalc in module conjugate_map.conj_calc:\n",
      "\n",
      "conjcalc(gdf, latname='GLAT', lonname='GLON', dtime=datetime.datetime(2025, 4, 30, 18, 42, 36, 591915, tzinfo=datetime.timezone.utc), method='aacgm', mode='S2N', is_saved=False, directory='output/', name='stations')\n",
      "    Calculate the geographic latitudes and longitudes of conjugate points\n",
      "    for all points in a dataframe. Calls findconj().\n",
      "    \n",
      "    Parameters\n",
      "    ----------\n",
      "    gdf         : dataframe of points whose conjugate points we're finding\n",
      "    lat         : float\n",
      "            Geographic latitude of station.\n",
      "    lon         : float\n",
      "            Geographic longitude of station.\n",
      "    ut          : datetime\n",
      "            Datetime used in conversion.\n",
      "    method      : string\n",
      "            Defines method used in conversion. Options are 'auto', 'geopack',\n",
      "            which uses IGRF + T89 to run field line traces,\n",
      "            or 'aacgm', which uses AACGM v2.\n",
      "    limit       : float\n",
      "            Latitude limit, in degrees, used to switch between\n",
      "            methods in auto mode. Default: 60.\n",
      "            AACGM will converge above 35 degrees, but may be\n",
      "            erroneous. See www.doi.org/10.1002/2014JA020264\n",
      "    latname     : string\n",
      "            Name of column containing latitude coordinates.\n",
      "    lonname     : string\n",
      "            Name of column containing longitude coordinates.\n",
      "    dtime       : datetime\n",
      "            Datetime used in conversion.\n",
      "    method      : string\n",
      "            Method used in conversion, passed to findconj().\n",
      "            Options are 'geopack', which uses IGRF + T89 to run\n",
      "            field line traces, or 'aacgm'.\n",
      "    mode        : string\n",
      "                    'S2N'     :\n",
      "                                Return station coordinates for\n",
      "                                northern hemisphere, conjugate\n",
      "                                for southern. Map appears over\n",
      "                                the Arctic. Default.\n",
      "                    'N2S'     :\n",
      "                                Return station coordinates for\n",
      "                                southern hemisphere, conjugate\n",
      "                                for northern. Map appears over\n",
      "                                the Antarctic.\n",
      "                    'flip'    :\n",
      "                                Return conjugate coordinates for\n",
      "                                points regardless of hemisphere.\n",
      "    \n",
      "    is_saved    : boolean\n",
      "        Boolean dictating whether the final .csv is saved to\n",
      "        the output directory.\n",
      "    directory   : string\n",
      "        Name of local directory to which .csv is saved;\n",
      "        'output/' by default.\n",
      "    name        : string\n",
      "        First part of saved filename. 'stations' by default.\n",
      "    \n",
      "    Returns\n",
      "    -------\n",
      "    gdf         : pandas.DataFrame\n",
      "        Dataframe with PLAT, PLON columns added indicating which\n",
      "        points to plot\n",
      "    \n",
      "    See Also\n",
      "    --------\n",
      "    conjugate_map.findconj\n",
      "    \n",
      "    Note\n",
      "    ----\n",
      "    Calls findconj for each entry in the dataframe.\n",
      "\n"
     ]
    }
   ],
   "source": [
    "help(conj.conjcalc)"
   ]
  }
 ],
 "metadata": {
  "kernelspec": {
   "display_name": "Python 3 (ipykernel)",
   "language": "python",
   "name": "python3"
  },
  "language_info": {
   "codemirror_mode": {
    "name": "ipython",
    "version": 3
   },
   "file_extension": ".py",
   "mimetype": "text/x-python",
   "name": "python",
   "nbconvert_exporter": "python",
   "pygments_lexer": "ipython3",
   "version": "3.9.1"
  },
  "widgets": {
   "application/vnd.jupyter.widget-state+json": {
    "state": {},
    "version_major": 2,
    "version_minor": 0
   }
  }
 },
 "nbformat": 4,
 "nbformat_minor": 5
}
