{
 "cells": [
  {
   "cell_type": "markdown",
   "id": "f3e47057-f52f-49c7-8eac-04ff6fb1e314",
   "metadata": {},
   "source": [
    "## Minimum Working Example: Conjugate Calculations"
   ]
  },
  {
   "cell_type": "code",
   "execution_count": null,
   "id": "ec3504cd-321d-44f1-9f16-d734bb36803f",
   "metadata": {
    "scrolled": true
   },
   "outputs": [],
   "source": [
    "## Using Binder? Uncomment and run the following lines.\n",
    "# pip install ../. # install package locally\n",
    "# pip install apexpy\n",
    "\n",
    "import conjugate_map.conj_calc as conj\n",
    "import datetime as dt\n",
    "import pandas as pd\n",
    "\n",
    "import logging\n",
    "logger = logging.getLogger(__name__)"
   ]
  },
  {
   "cell_type": "markdown",
   "id": "00e1b932-184f-4720-97f2-7c94bacee574",
   "metadata": {},
   "source": [
    "### Compute conjugate points for one point:"
   ]
  },
  {
   "cell_type": "code",
   "execution_count": null,
   "id": "f317508d-cb3b-4460-a34e-2cc68db06b36",
   "metadata": {},
   "outputs": [],
   "source": [
    "ut = dt.datetime(1980, 11, 3, 18, 0, 0)\n",
    "lat, lon = [-88, -0]\n",
    "\n",
    "print(\"Geopack: \")\n",
    "print(conj.findconj(lat, lon, ut, method=\"geopack\"))\n",
    "print(\"AACGM: \")\n",
    "print(conj.findconj(lat, lon, ut, method=\"aacgm\"))\n",
    "print(\"Quasi-dipole: \")\n",
    "print(conj.findconj(lat, lon, ut, method=\"qdip\"))\n",
    "print(\"\\nAutomatic: \")\n",
    "print(conj.findconj(lat, lon, ut, method=\"auto\"))\n"
   ]
  },
  {
   "cell_type": "code",
   "execution_count": null,
   "id": "49d2bccb-0908-4cb2-873b-314b87b8b3a6",
   "metadata": {},
   "outputs": [],
   "source": [
    "        self.lat = -88  # Latitude in degrees (negative for south)\n",
    "        self.lon = 0  # Longitude in degrees\n",
    "        self.method = \"qdip\""
   ]
  },
  {
   "cell_type": "code",
   "execution_count": null,
   "id": "8a5df4d3-5027-4af1-8b9f-7b0fe0c00ce2",
   "metadata": {},
   "outputs": [],
   "source": [
    "import warnings\n",
    "warnings.filterwarnings('ignore')"
   ]
  },
  {
   "cell_type": "markdown",
   "id": "a02287db-ced7-446a-ba6e-11e80cb7e6e6",
   "metadata": {},
   "source": [
    "## Compute conjugate points for all points in a dataframe:\n",
    "\n",
    "First we declare a dataframe:"
   ]
  },
  {
   "cell_type": "code",
   "execution_count": null,
   "id": "d8dcceae-625c-4dc3-ac19-65b0421bf6fe",
   "metadata": {},
   "outputs": [],
   "source": [
    "df = pd.DataFrame({'Name':['McMurdo', 'SPA', 'PGC', 'SSI'], \n",
    "                   'lat': [-77.846323, -90, 44.984308, 40.019511], \n",
    "                   'lon': [ 166.668235, 0, -93.182207, -105.240014]\n",
    "                  })\n",
    "\n",
    "df"
   ]
  },
  {
   "cell_type": "markdown",
   "id": "702a01a9-5618-4f97-8299-146b09ac6fa7",
   "metadata": {},
   "source": [
    "...and then we compute the conjugate points:"
   ]
  },
  {
   "cell_type": "code",
   "execution_count": null,
   "id": "c9a95d25-9fc2-4956-9ce7-16c446b8d377",
   "metadata": {},
   "outputs": [],
   "source": [
    "conj.conjcalc(df, dtime = ut, latname = 'lat', lonname = 'lon')"
   ]
  },
  {
   "cell_type": "markdown",
   "id": "c0de94b0-cfa5-427a-8f6f-48ee6725e855",
   "metadata": {},
   "source": [
    "The default values are documented in the function:"
   ]
  },
  {
   "cell_type": "code",
   "execution_count": null,
   "id": "b0813286-2a83-4262-9a68-7cda035760cd",
   "metadata": {},
   "outputs": [],
   "source": [
    "help(conj.conjcalc)"
   ]
  }
 ],
 "metadata": {
  "kernelspec": {
   "display_name": "Python 3 (ipykernel)",
   "language": "python",
   "name": "python3"
  },
  "language_info": {
   "codemirror_mode": {
    "name": "ipython",
    "version": 3
   },
   "file_extension": ".py",
   "mimetype": "text/x-python",
   "name": "python",
   "nbconvert_exporter": "python",
   "pygments_lexer": "ipython3",
   "version": "3.9.1"
  },
  "widgets": {
   "application/vnd.jupyter.widget-state+json": {
    "state": {},
    "version_major": 2,
    "version_minor": 0
   }
  }
 },
 "nbformat": 4,
 "nbformat_minor": 5
}
